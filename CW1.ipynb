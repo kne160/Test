{
  "nbformat": 4,
  "nbformat_minor": 0,
  "metadata": {
    "colab": {
      "name": "CW1.ipynb",
      "provenance": [],
      "collapsed_sections": [],
      "authorship_tag": "ABX9TyP10T0a5bjltuOD/5+nBXUL",
      "include_colab_link": true
    },
    "kernelspec": {
      "name": "python3",
      "display_name": "Python 3"
    }
  },
  "cells": [
    {
      "cell_type": "markdown",
      "metadata": {
        "id": "view-in-github",
        "colab_type": "text"
      },
      "source": [
        "<a href=\"https://colab.research.google.com/github/kne160/Test/blob/master/CW1.ipynb\" target=\"_parent\"><img src=\"https://colab.research.google.com/assets/colab-badge.svg\" alt=\"Open In Colab\"/></a>"
      ]
    },
    {
      "cell_type": "code",
      "metadata": {
        "colab": {
          "base_uri": "https://localhost:8080/",
          "height": 200
        },
        "id": "Rn7hmNSpR2NW",
        "outputId": "9db785b4-00e5-4bf8-f317-b5688e6c0a74"
      },
      "source": [
        "import argparse\r\n",
        "import configparser\r\n",
        "\r\n",
        "def train(config):\r\n",
        "    print(config)\r\n",
        "\r\n",
        "def test(config):\r\n",
        "    parser = configparser.ConfigParser()\r\n",
        "    parser.sections()\r\n",
        "    parser.read(config)\r\n",
        "\r\n",
        "    keys = parser.keys()\r\n",
        "    for key in keys:\r\n",
        "        print(key)\r\n",
        "\r\n",
        "    path_train = parser[\"PATH\"][\"path_train\"]\r\n",
        "    print(path_train)\r\n",
        "\r\n",
        "\r\n",
        "def main():\r\n",
        "\r\n",
        "    parser = argparse.ArgumentParser(description='Coursework 1')\r\n",
        "\r\n",
        "    parser.add_argument('--config', type=str, required=True, help='Configuration file')\r\n",
        "    parser.add_argument('--train', action='store_true', help='Training mode - model is saved')\r\n",
        "    parser.add_argument('--test', action='store_true', help='Testing mode - needs a model to load')\r\n",
        "\r\n",
        "    args = parser.parse_args()\r\n",
        "\r\n",
        "    if args.train:\r\n",
        "        # call train function\r\n",
        "        train(args.config)\r\n",
        "    elif args.test:\r\n",
        "        # call test function\r\n",
        "        test(args.config)\r\n",
        "\r\n",
        "if __name__ == '__main__':\r\n",
        "    main()\r\n"
      ],
      "execution_count": null,
      "outputs": [
        {
          "output_type": "stream",
          "text": [
            "usage: ipykernel_launcher.py [-h] --config CONFIG [--train] [--test]\n",
            "ipykernel_launcher.py: error: the following arguments are required: --config\n"
          ],
          "name": "stderr"
        },
        {
          "output_type": "error",
          "ename": "SystemExit",
          "evalue": "ignored",
          "traceback": [
            "An exception has occurred, use %tb to see the full traceback.\n",
            "\u001b[0;31mSystemExit\u001b[0m\u001b[0;31m:\u001b[0m 2\n"
          ]
        },
        {
          "output_type": "stream",
          "text": [
            "/usr/local/lib/python3.6/dist-packages/IPython/core/interactiveshell.py:2890: UserWarning: To exit: use 'exit', 'quit', or Ctrl-D.\n",
            "  warn(\"To exit: use 'exit', 'quit', or Ctrl-D.\", stacklevel=1)\n"
          ],
          "name": "stderr"
        }
      ]
    },
    {
      "cell_type": "code",
      "metadata": {
        "colab": {
          "base_uri": "https://localhost:8080/"
        },
        "id": "jTCGW1m_WOVj",
        "outputId": "ce222146-bb6e-4e4e-8325-7c8f11229344"
      },
      "source": [
        "# python3 question_classifier.py --train --config [configuration_file_path] \r\n",
        "# python3 question_classifier.py --test --config [configuration_file_path]\r\n",
        "\r\n",
        "#!python3 question_classifier.py --train --config config.ini\r\n",
        "!python3 question_classifier.py --test --config config.ini"
      ],
      "execution_count": null,
      "outputs": [
        {
          "output_type": "stream",
          "text": [
            "DEFAULT\n",
            "PATH\n",
            "MODEL\n",
            "HP\n",
            "../data/train.txt\n"
          ],
          "name": "stdout"
        }
      ]
    },
    {
      "cell_type": "code",
      "metadata": {
        "colab": {
          "base_uri": "https://localhost:8080/"
        },
        "id": "UmmSpIbgpeM_",
        "outputId": "aa0272de-93c8-44dc-fd14-819873f2291d"
      },
      "source": [
        "import torch\r\n",
        "\r\n",
        "new_tensor = torch.Tensor([[1, 2, 3], [4, 5, 6], [7, 8, 9]])\r\n",
        "\r\n",
        "print(new_tensor[2, :])\r\n",
        "print(new_tensor.type())\r\n",
        "print(new_tensor.shape)\r\n",
        "print(new_tensor.dim())\r\n",
        "\r\n",
        "print(new_tensor.view(-1, 9))\r\n",
        "\r\n",
        "print(new_tensor.t())\r\n",
        "print(new_tensor.permute(-1,0))\r\n",
        "\r\n",
        "t1 = torch.randn(3, 3)\r\n",
        "t2 = torch.randn(3, 3)\r\n",
        "\r\n",
        "print(t1)\r\n",
        "print(t2)\r\n",
        "print(t1.cross(t2))\r\n",
        "print(t1.mm(t2))\r\n",
        "print(t1.mul(t2))"
      ],
      "execution_count": null,
      "outputs": [
        {
          "output_type": "stream",
          "text": [
            "tensor([7., 8., 9.])\n",
            "torch.FloatTensor\n",
            "torch.Size([3, 3])\n",
            "2\n",
            "tensor([[1., 2., 3., 4., 5., 6., 7., 8., 9.]])\n",
            "tensor([[1., 4., 7.],\n",
            "        [2., 5., 8.],\n",
            "        [3., 6., 9.]])\n",
            "tensor([[1., 4., 7.],\n",
            "        [2., 5., 8.],\n",
            "        [3., 6., 9.]])\n",
            "tensor([[ 0.4638,  0.0204,  1.3965],\n",
            "        [ 0.0432, -0.5977, -0.0860],\n",
            "        [ 2.3171, -0.1520, -0.5210]])\n",
            "tensor([[-0.0092,  2.0074,  1.2291],\n",
            "        [-0.5345, -1.5776, -0.7481],\n",
            "        [ 0.9889, -0.7280, -0.8977]])\n",
            "tensor([[ 1.2811,  0.1953, -0.3126],\n",
            "        [-0.4800, -0.2904,  0.6132],\n",
            "        [-0.2475,  1.1677, -0.9391]])\n",
            "tensor([[ 1.3659, -0.1178, -0.6988],\n",
            "        [ 0.2340,  1.0923,  0.5775],\n",
            "        [-0.4553,  5.2706,  3.4294]])\n",
            "tensor([[-0.0043,  0.0410,  1.7165],\n",
            "        [-0.0231,  0.9430,  0.0644],\n",
            "        [ 2.2914,  0.1107,  0.4677]])\n"
          ],
          "name": "stdout"
        }
      ]
    },
    {
      "cell_type": "code",
      "metadata": {
        "colab": {
          "base_uri": "https://localhost:8080/"
        },
        "id": "K7eFVdBJ4Ixq",
        "outputId": "c170c2f5-8f62-44be-a497-6b0fb3179c97"
      },
      "source": [
        "x = torch.ones(1, requires_grad=True)\r\n",
        "y = x + 2\r\n",
        "z = y * y * 2 # (dz / dx = 4 * y)\r\n",
        "\r\n",
        "z.backward()\r\n",
        "print(x.grad)"
      ],
      "execution_count": null,
      "outputs": [
        {
          "output_type": "stream",
          "text": [
            "tensor([12.])\n"
          ],
          "name": "stdout"
        }
      ]
    },
    {
      "cell_type": "code",
      "metadata": {
        "colab": {
          "base_uri": "https://localhost:8080/"
        },
        "id": "CImUAsafA08U",
        "outputId": "eaffec2b-393d-4feb-e6b6-4040272b852a"
      },
      "source": [
        "import torch.nn as nn\r\n",
        "lstm = nn.LSTM(3,3)\r\n",
        "\r\n",
        "inputs = [torch.randn(1, 3) for _ in range(5)]\r\n",
        "inputs_t = torch.cat(inputs).view(len(inputs), 1, -1)\r\n",
        "\r\n",
        "print(inputs_t.shape)\r\n",
        "\r\n",
        "hidden = (torch.randn(1,1,3), torch.randn(1,1,3))\r\n",
        "\r\n",
        "out, hidden = lstm(inputs_t, hidden)\r\n",
        "\r\n",
        "print(out)\r\n",
        "\r\n",
        "print(hidden)"
      ],
      "execution_count": null,
      "outputs": [
        {
          "output_type": "stream",
          "text": [
            "torch.Size([5, 1, 3])\n",
            "tensor([[[ 0.1596, -0.5134, -0.2547]],\n",
            "\n",
            "        [[ 0.2183, -0.2402, -0.0764]],\n",
            "\n",
            "        [[ 0.0143,  0.0333,  0.0173]],\n",
            "\n",
            "        [[-0.1370,  0.1361,  0.0078]],\n",
            "\n",
            "        [[-0.1780,  0.1867,  0.1202]]], grad_fn=<StackBackward>)\n",
            "(tensor([[[-0.1780,  0.1867,  0.1202]]], grad_fn=<StackBackward>), tensor([[[-0.3085,  0.3659,  0.2604]]], grad_fn=<StackBackward>))\n"
          ],
          "name": "stdout"
        }
      ]
    },
    {
      "cell_type": "code",
      "metadata": {
        "colab": {
          "base_uri": "https://localhost:8080/"
        },
        "id": "OWxqT39xHhTc",
        "outputId": "1768f056-fe4a-482b-8f0c-c08533a835e8"
      },
      "source": [
        "!git clone https://gitlab.cs.man.ac.uk/r53375ks/test.git"
      ],
      "execution_count": 2,
      "outputs": [
        {
          "output_type": "stream",
          "text": [
            "Cloning into 'test'...\n",
            "fatal: could not read Username for 'https://gitlab.cs.man.ac.uk': No such device or address\n"
          ],
          "name": "stdout"
        }
      ]
    }
  ]
}